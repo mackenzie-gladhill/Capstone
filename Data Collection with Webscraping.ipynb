{
 "cells": [
  {
   "cell_type": "markdown",
   "id": "762f8029-31db-4862-b08e-1c28d01b72f4",
   "metadata": {},
   "source": [
    "## Collecting Falcon 9 Launch Data via Webscraping"
   ]
  },
  {
   "cell_type": "code",
   "execution_count": 1,
   "id": "6cd94440-7e33-41b2-a14b-41f4643c8ff8",
   "metadata": {},
   "outputs": [
    {
     "name": "stdout",
     "output_type": "stream",
     "text": [
      "Requirement already satisfied: beautifulsoup4 in /home/jupyterlab/conda/envs/python/lib/python3.7/site-packages (4.11.1)\n",
      "Requirement already satisfied: soupsieve>1.2 in /home/jupyterlab/conda/envs/python/lib/python3.7/site-packages (from beautifulsoup4) (2.3.2.post1)\n",
      "Requirement already satisfied: requests in /home/jupyterlab/conda/envs/python/lib/python3.7/site-packages (2.28.1)\n",
      "Requirement already satisfied: charset-normalizer<3,>=2 in /home/jupyterlab/conda/envs/python/lib/python3.7/site-packages (from requests) (2.1.1)\n",
      "Requirement already satisfied: certifi>=2017.4.17 in /home/jupyterlab/conda/envs/python/lib/python3.7/site-packages (from requests) (2022.9.24)\n",
      "Requirement already satisfied: urllib3<1.27,>=1.21.1 in /home/jupyterlab/conda/envs/python/lib/python3.7/site-packages (from requests) (1.26.13)\n",
      "Requirement already satisfied: idna<4,>=2.5 in /home/jupyterlab/conda/envs/python/lib/python3.7/site-packages (from requests) (3.4)\n"
     ]
    }
   ],
   "source": [
    "!pip3 install beautifulsoup4\n",
    "!pip3 install requests"
   ]
  },
  {
   "cell_type": "code",
   "execution_count": 2,
   "id": "6c660911-d30e-43e2-8577-3ba495b78027",
   "metadata": {},
   "outputs": [],
   "source": [
    "import sys\n",
    "import requests\n",
    "from bs4 import BeautifulSoup\n",
    "import re\n",
    "import unicodedata\n",
    "import pandas as pd"
   ]
  },
  {
   "cell_type": "markdown",
   "id": "78bbd0c5-827c-4b5b-9192-da9296359837",
   "metadata": {},
   "source": [
    "Creating functions to extract the data from the website's HTML table "
   ]
  },
  {
   "cell_type": "code",
   "execution_count": 72,
   "id": "f06bcec2-a969-4ff6-8695-7e798ab99aef",
   "metadata": {},
   "outputs": [],
   "source": [
    "def date_time(table_cells):\n",
    "    return [data_time.strip() for data_time in list(table_cells.strings)][0:2]\n",
    "def booster_version(table_cells):\n",
    "    out=''.join([booster_version for i,booster_version in enumerate(table_cells.strings) if i%2==0][0:-1])\n",
    "    return out\n",
    "def landing_status(table_cells):\n",
    "    out=[i for i in table_cells.strings][0]\n",
    "    return out\n",
    "def get_mass(table_cells):\n",
    "    mass=unicodedata.normalize(\"NFKD\",table_cells.text).strip()\n",
    "    if mass:\n",
    "        mass.find(\"kg\")\n",
    "        new_mass=mass[0:mass.find(\"kg\")+2]\n",
    "    else:\n",
    "        new_mass=0\n",
    "    return new_mass\n",
    "def extract_column_from_header(row):\n",
    "    if (row.br):\n",
    "        row.br.extract()\n",
    "    if row.a:\n",
    "        row.a.extract()\n",
    "    if row.sup:\n",
    "        row.sup.extract()\n",
    "    column_name=' '.join(row.contents)\n",
    "    if not(column_name.strip().isdigit()):\n",
    "        column_name=column_name.strip()\n",
    "        return column_name"
   ]
  },
  {
   "cell_type": "code",
   "execution_count": 16,
   "id": "e331eae1-e313-4981-9aa7-bab0f574e528",
   "metadata": {},
   "outputs": [],
   "source": [
    "static_url=\"https://en.wikipedia.org/w/index.php?title=List_of_Falcon_9_and_Falcon_Heavy_launches&oldid=1027686922\""
   ]
  },
  {
   "cell_type": "code",
   "execution_count": 26,
   "id": "ad5edfc4-93b8-4fd7-ad11-fdf4c113d9a2",
   "metadata": {},
   "outputs": [],
   "source": [
    "response=requests.get(static_url)"
   ]
  },
  {
   "cell_type": "code",
   "execution_count": 36,
   "id": "c7fe927d-f7f0-4818-b067-634ea986e609",
   "metadata": {},
   "outputs": [],
   "source": [
    "soup=BeautifulSoup(response.content,\"html.parser\")"
   ]
  },
  {
   "cell_type": "markdown",
   "id": "3e24fb50-9d72-4219-9bcf-7dbfacf91c60",
   "metadata": {},
   "source": [
    "Finding all tables in the wikipedia page and extracting the one we want"
   ]
  },
  {
   "cell_type": "code",
   "execution_count": 41,
   "id": "e5fd2318-4be0-49b2-a290-b2b1d8781943",
   "metadata": {},
   "outputs": [],
   "source": [
    "html_tables=soup.find_all('table')"
   ]
  },
  {
   "cell_type": "code",
   "execution_count": 50,
   "id": "9d4d49f5-02f5-474c-b836-2991fb3aef03",
   "metadata": {},
   "outputs": [],
   "source": [
    "first_launch_table=html_tables[2]"
   ]
  },
  {
   "cell_type": "code",
   "execution_count": 68,
   "id": "a9225a0d-1a0f-468a-b825-9067439185ac",
   "metadata": {},
   "outputs": [
    {
     "name": "stdout",
     "output_type": "stream",
     "text": [
      "['Flight No.', 'Date and time ( )', 'Launch site', 'Payload', 'Payload mass', 'Orbit', 'Customer', 'Launch outcome']\n"
     ]
    }
   ],
   "source": [
    "column_names=[]\n",
    "for row in first_launch_table.find_all('th'):\n",
    "        columns=extract_column_from_header(row)\n",
    "        if columns is not None and len(columns)>0:\n",
    "            column_names.append(columns)\n",
    "print(column_names)"
   ]
  },
  {
   "cell_type": "markdown",
   "id": "d9fa1372-5689-4d8d-aa0d-388bf9a21aab",
   "metadata": {},
   "source": [
    "Creating an empty dictionary and then filling it with data from the rows in the extracted table"
   ]
  },
  {
   "cell_type": "code",
   "execution_count": 69,
   "id": "94c7a7ea-95f4-4945-b079-fb895b57e85f",
   "metadata": {},
   "outputs": [],
   "source": [
    "launch_dict=dict.fromkeys(column_names)\n",
    "del launch_dict['Date and time ( )']"
   ]
  },
  {
   "cell_type": "code",
   "execution_count": 70,
   "id": "7f5c7d4f-7041-44f7-b1be-6a46725e3b91",
   "metadata": {},
   "outputs": [],
   "source": [
    "launch_dict['Flight No.'] = []\n",
    "launch_dict['Launch site'] = []\n",
    "launch_dict['Payload'] = []\n",
    "launch_dict['Payload mass'] = []\n",
    "launch_dict['Orbit'] = []\n",
    "launch_dict['Customer'] = []\n",
    "launch_dict['Launch outcome'] = []\n",
    "launch_dict['Version Booster']=[]\n",
    "launch_dict['Booster landing']=[]\n",
    "launch_dict['Date']=[]\n",
    "launch_dict['Time']=[]"
   ]
  },
  {
   "cell_type": "code",
   "execution_count": 75,
   "id": "09188891-1e4f-43f5-9a46-a64360b75dff",
   "metadata": {},
   "outputs": [],
   "source": [
    "extracted_row = 0\n",
    "for table_number,table in enumerate(soup.find_all('table',\"wikitable plainrowheaders collapsible\")):\n",
    "    for rows in table.find_all(\"tr\"):\n",
    "        if rows.th:\n",
    "            if rows.th.string:\n",
    "                flight_number=rows.th.string.strip()\n",
    "                flag=flight_number.isdigit()\n",
    "        else:\n",
    "            flag=False \n",
    "        row=rows.find_all('td')\n",
    "        if flag:\n",
    "            extracted_row += 1\n",
    "            launch_dict['Flight No.'].append(flight_number)\n",
    "            datatimelist=date_time(row[0])\n",
    "            \n",
    "            date=datatimelist[0].strip(',')\n",
    "            launch_dict['Date'].append(date)\n",
    "\n",
    "            time=datatimelist[1]\n",
    "            launch_dict['Time'].append(time)\n",
    "              \n",
    "            bv=booster_version(row[1])\n",
    "            if not(bv):\n",
    "                bv=row[1].a.string\n",
    "            launch_dict['Version Booster'].append(bv)\n",
    "           \n",
    "            launch_site=row[2].a.string\n",
    "            launch_dict['Launch site'].append(launch_site)\n",
    "            \n",
    "            payload=row[3].a.string\n",
    "            launch_dict['Payload'].append(payload)\n",
    "            \n",
    "            payload_mass=get_mass(row[4])\n",
    "            launch_dict['Payload mass'].append(payload_mass)\n",
    "            \n",
    "            orbit=row[5].a.string\n",
    "            launch_dict['Orbit'].append(orbit)\n",
    "            \n",
    "            customer=row[6].a.string if row[6].a else \"\"\n",
    "            launch_dict['Customer'].append(customer)\n",
    "\n",
    "            launch_outcome=list(row[7].strings)[0]\n",
    "            launch_dict['Launch outcome'].append(launch_outcome)\n",
    "            \n",
    "            booster_landing=landing_status(row[8])\n",
    "            launch_dict['Booster landing'].append(booster_landing)"
   ]
  },
  {
   "cell_type": "code",
   "execution_count": 78,
   "id": "a4d1dfcf-e19c-4a26-9fe6-5ac123733b26",
   "metadata": {},
   "outputs": [],
   "source": [
    "webscrape_df=pd.DataFrame({key:pd.Series(value) for key, value in launch_dict.items()})"
   ]
  },
  {
   "cell_type": "code",
   "execution_count": 79,
   "id": "568ce73c-6a1b-47c9-81f5-f70af6f303c2",
   "metadata": {},
   "outputs": [
    {
     "data": {
      "text/html": [
       "<div>\n",
       "<style scoped>\n",
       "    .dataframe tbody tr th:only-of-type {\n",
       "        vertical-align: middle;\n",
       "    }\n",
       "\n",
       "    .dataframe tbody tr th {\n",
       "        vertical-align: top;\n",
       "    }\n",
       "\n",
       "    .dataframe thead th {\n",
       "        text-align: right;\n",
       "    }\n",
       "</style>\n",
       "<table border=\"1\" class=\"dataframe\">\n",
       "  <thead>\n",
       "    <tr style=\"text-align: right;\">\n",
       "      <th></th>\n",
       "      <th>Flight No.</th>\n",
       "      <th>Launch site</th>\n",
       "      <th>Payload</th>\n",
       "      <th>Payload mass</th>\n",
       "      <th>Orbit</th>\n",
       "      <th>Customer</th>\n",
       "      <th>Launch outcome</th>\n",
       "      <th>Version Booster</th>\n",
       "      <th>Booster landing</th>\n",
       "      <th>Date</th>\n",
       "      <th>Time</th>\n",
       "    </tr>\n",
       "  </thead>\n",
       "  <tbody>\n",
       "    <tr>\n",
       "      <th>0</th>\n",
       "      <td>1</td>\n",
       "      <td>CCAFS</td>\n",
       "      <td>Dragon Spacecraft Qualification Unit</td>\n",
       "      <td>0</td>\n",
       "      <td>LEO</td>\n",
       "      <td>SpaceX</td>\n",
       "      <td>Success\\n</td>\n",
       "      <td>F9 v1.0B0003.1</td>\n",
       "      <td>Failure</td>\n",
       "      <td>4 June 2010</td>\n",
       "      <td>18:45</td>\n",
       "    </tr>\n",
       "    <tr>\n",
       "      <th>1</th>\n",
       "      <td>1</td>\n",
       "      <td>CCAFS</td>\n",
       "      <td>Dragon Spacecraft Qualification Unit</td>\n",
       "      <td>0</td>\n",
       "      <td>LEO</td>\n",
       "      <td>NASA</td>\n",
       "      <td>Success</td>\n",
       "      <td>F9 v1.0B0003.1</td>\n",
       "      <td>Failure</td>\n",
       "      <td>4 June 2010</td>\n",
       "      <td>18:45</td>\n",
       "    </tr>\n",
       "    <tr>\n",
       "      <th>2</th>\n",
       "      <td>2</td>\n",
       "      <td>CCAFS</td>\n",
       "      <td>Dragon</td>\n",
       "      <td>525 kg</td>\n",
       "      <td>LEO</td>\n",
       "      <td>NASA</td>\n",
       "      <td>Success</td>\n",
       "      <td>F9 v1.0B0004.1</td>\n",
       "      <td>No attempt\\n</td>\n",
       "      <td>8 December 2010</td>\n",
       "      <td>15:43</td>\n",
       "    </tr>\n",
       "    <tr>\n",
       "      <th>3</th>\n",
       "      <td>3</td>\n",
       "      <td>CCAFS</td>\n",
       "      <td>Dragon</td>\n",
       "      <td>4,700 kg</td>\n",
       "      <td>LEO</td>\n",
       "      <td>NASA</td>\n",
       "      <td>Success\\n</td>\n",
       "      <td>F9 v1.0B0005.1</td>\n",
       "      <td>No attempt</td>\n",
       "      <td>22 May 2012</td>\n",
       "      <td>07:44</td>\n",
       "    </tr>\n",
       "    <tr>\n",
       "      <th>4</th>\n",
       "      <td>4</td>\n",
       "      <td>CCAFS</td>\n",
       "      <td>SpaceX CRS-1</td>\n",
       "      <td>4,877 kg</td>\n",
       "      <td>LEO</td>\n",
       "      <td>NASA</td>\n",
       "      <td>Success\\n</td>\n",
       "      <td>F9 v1.0B0006.1</td>\n",
       "      <td>No attempt\\n</td>\n",
       "      <td>8 October 2012</td>\n",
       "      <td>00:35</td>\n",
       "    </tr>\n",
       "  </tbody>\n",
       "</table>\n",
       "</div>"
      ],
      "text/plain": [
       "  Flight No. Launch site                               Payload Payload mass  \\\n",
       "0          1       CCAFS  Dragon Spacecraft Qualification Unit            0   \n",
       "1          1       CCAFS  Dragon Spacecraft Qualification Unit            0   \n",
       "2          2       CCAFS                                Dragon       525 kg   \n",
       "3          3       CCAFS                                Dragon     4,700 kg   \n",
       "4          4       CCAFS                          SpaceX CRS-1     4,877 kg   \n",
       "\n",
       "  Orbit Customer Launch outcome Version Booster Booster landing  \\\n",
       "0   LEO   SpaceX      Success\\n  F9 v1.0B0003.1         Failure   \n",
       "1   LEO     NASA        Success  F9 v1.0B0003.1         Failure   \n",
       "2   LEO     NASA        Success  F9 v1.0B0004.1    No attempt\\n   \n",
       "3   LEO     NASA      Success\\n  F9 v1.0B0005.1      No attempt   \n",
       "4   LEO     NASA      Success\\n  F9 v1.0B0006.1    No attempt\\n   \n",
       "\n",
       "              Date   Time  \n",
       "0      4 June 2010  18:45  \n",
       "1      4 June 2010  18:45  \n",
       "2  8 December 2010  15:43  \n",
       "3      22 May 2012  07:44  \n",
       "4   8 October 2012  00:35  "
      ]
     },
     "execution_count": 79,
     "metadata": {},
     "output_type": "execute_result"
    }
   ],
   "source": [
    "webscrape_df.head()"
   ]
  },
  {
   "cell_type": "code",
   "execution_count": 80,
   "id": "3115ab98-8f08-4075-b767-9cf78c3f29bb",
   "metadata": {},
   "outputs": [],
   "source": [
    "webscrape_df.to_csv('spacex_web_scraped.csv',index=False)"
   ]
  },
  {
   "cell_type": "code",
   "execution_count": null,
   "id": "a90278b5-cf71-44ca-a99b-6fb507a376f7",
   "metadata": {},
   "outputs": [],
   "source": []
  }
 ],
 "metadata": {
  "kernelspec": {
   "display_name": "Python",
   "language": "python",
   "name": "conda-env-python-py"
  },
  "language_info": {
   "codemirror_mode": {
    "name": "ipython",
    "version": 3
   },
   "file_extension": ".py",
   "mimetype": "text/x-python",
   "name": "python",
   "nbconvert_exporter": "python",
   "pygments_lexer": "ipython3",
   "version": "3.7.12"
  }
 },
 "nbformat": 4,
 "nbformat_minor": 5
}
